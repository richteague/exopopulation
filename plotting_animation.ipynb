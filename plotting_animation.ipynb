{
 "cells": [
  {
   "cell_type": "code",
   "execution_count": null,
   "metadata": {},
   "outputs": [],
   "source": [
    "from plotting import planet_marker, timeline\n",
    "import matplotlib.pyplot as plt\n",
    "import numpy as np\n",
    "plt.style.use('paper')"
   ]
  },
  {
   "cell_type": "markdown",
   "metadata": {},
   "source": [
    "Read in the data."
   ]
  },
  {
   "cell_type": "code",
   "execution_count": null,
   "metadata": {},
   "outputs": [],
   "source": [
    "solarsystem = np.loadtxt('solarsystemplanets.txt')\n",
    "exoplanets = np.loadtxt('exoplanets.txt')"
   ]
  },
  {
   "cell_type": "markdown",
   "metadata": {},
   "source": [
    "Define the number of frames we want, and what year each frame represents."
   ]
  },
  {
   "cell_type": "code",
   "execution_count": null,
   "metadata": {},
   "outputs": [],
   "source": [
    "frames = 500\n",
    "years = np.linspace(exoplanets[:, 2].min() - 1.1,\n",
    "                    exoplanets[:, 2].max() + 1.1,\n",
    "                    frames) \n",
    "years = np.where(years > 2021, 2021, years)\n",
    "\n",
    "planet_markers = [planet_marker(*planet) for planet in exoplanets]\n",
    "year_markers = timeline(years)"
   ]
  },
  {
   "cell_type": "code",
   "execution_count": null,
   "metadata": {},
   "outputs": [],
   "source": [
    "def gentrify_plot(ax):\n",
    "    \"\"\"Gentrification of the plot.\"\"\"\n",
    "    ax.set_xlabel(r'${\\bf Orbital \\,\\, Semi-Major \\,\\, Axis} \\quad ({\\rm au})$')\n",
    "    ax.set_ylabel(r'${\\bf Planetary \\,\\, Mass} \\quad ({\\rm M_{Jup}})$')\n",
    "    ax.set_xlim(2e-3, 5e3)\n",
    "    ax.set_ylim(2e-5, 5e2)\n",
    "    ax.set_xscale('log')\n",
    "    ax.set_yscale('log')\n",
    "    ax.tick_params(which='both', right=False, top=False)\n",
    "    ax.spines['top'].set_visible(False)\n",
    "    ax.spines['right'].set_visible(False)    \n",
    "    ax.grid(alpha=0.2, lw=0.5, ls='--')"
   ]
  },
  {
   "cell_type": "code",
   "execution_count": null,
   "metadata": {},
   "outputs": [],
   "source": [
    "# cycle through each frame and draw the figure.\n",
    "for y, year in enumerate(years):\n",
    "    \n",
    "    # make the axes grid\n",
    "    fig, axs = plt.subplots(nrows=2, figsize=(6, 3), constrained_layout=True,\n",
    "                            gridspec_kw=dict(height_ratios=[1, 8]))\n",
    "\n",
    "    # add the timeline on top\n",
    "    year_markers.plot_year_marker(axs[0], year if year >= exoplanets[:, 2].min() - 1.0 else None)\n",
    "    \n",
    "    # include the planets\n",
    "    ax = axs[1]\n",
    "    for planet in planet_markers:\n",
    "        planet.plot_marker(ax, year)\n",
    "    gentrify_plot(ax)\n",
    "    \n",
    "    # save it\n",
    "    plt.savefig('frames/exoplanet_population_{:03d}.png'.format(y))\n",
    "    plt.close()"
   ]
  },
  {
   "cell_type": "code",
   "execution_count": null,
   "metadata": {},
   "outputs": [],
   "source": [
    "!convert -quality 100 frames/*.png exopopulation.mpeg"
   ]
  },
  {
   "cell_type": "code",
   "execution_count": null,
   "metadata": {},
   "outputs": [],
   "source": [
    "!convert -delay 4.167 frames/*.png -loop 0 -scale 50% exopopulation.gif"
   ]
  },
  {
   "cell_type": "code",
   "execution_count": null,
   "metadata": {},
   "outputs": [],
   "source": [
    "year = 2000.4\n",
    "\n",
    "# make the figure\n",
    "fig, axs = plt.subplots(nrows=2, figsize=(6, 3), constrained_layout=True,\n",
    "                        gridspec_kw=dict(height_ratios=[1, 8]))\n",
    "\n",
    "# add the timeline on top\n",
    "year_markers.plot_year_marker(axs[0], year)\n",
    "\n",
    "# include the planets\n",
    "ax = axs[1]\n",
    "for planet in planet_markers:\n",
    "    planet.plot_marker(ax, year)\n",
    "    \n",
    "# add the solar system planets\n",
    "ax.scatter(solarsystem[:, 1], solarsystem[:, 0], marker='s',\n",
    "           color='dodgerblue', lw=0.0, s=15)"
   ]
  },
  {
   "cell_type": "code",
   "execution_count": null,
   "metadata": {},
   "outputs": [],
   "source": []
  }
 ],
 "metadata": {
  "kernelspec": {
   "display_name": "Python 3",
   "language": "python",
   "name": "python3"
  },
  "language_info": {
   "codemirror_mode": {
    "name": "ipython",
    "version": 3
   },
   "file_extension": ".py",
   "mimetype": "text/x-python",
   "name": "python",
   "nbconvert_exporter": "python",
   "pygments_lexer": "ipython3",
   "version": "3.7.4"
  }
 },
 "nbformat": 4,
 "nbformat_minor": 2
}
